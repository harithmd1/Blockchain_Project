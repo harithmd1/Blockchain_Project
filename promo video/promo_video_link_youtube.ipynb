{
 "cells": [
  {
   "cell_type": "markdown",
   "metadata": {},
   "source": [
    "Youtube promo video \n",
    "\n",
    "https://youtu.be/EPYbGKDgxvk?si=5ztme493Q8edxg6-"
   ]
  }
 ],
 "metadata": {
  "language_info": {
   "name": "python"
  }
 },
 "nbformat": 4,
 "nbformat_minor": 2
}
